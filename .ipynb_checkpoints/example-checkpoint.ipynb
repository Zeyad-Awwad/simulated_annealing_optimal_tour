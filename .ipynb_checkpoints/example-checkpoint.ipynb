{
 "cells": [
  {
   "cell_type": "markdown",
   "metadata": {},
   "source": [
    "This brief example sets up N points with random locations"
   ]
  },
  {
   "cell_type": "code",
   "execution_count": null,
   "metadata": {},
   "outputs": [],
   "source": [
    "from random import random\n",
    "\n",
    "N = 50 \n",
    "coords = [ ( random()*100, random()*100 ) for n in range(N) ] "
   ]
  },
  {
   "cell_type": "markdown",
   "metadata": {},
   "source": [
    "The script implements two different transition functions (swapping and section reversal) to approximate the optimal path"
   ]
  },
  {
   "cell_type": "code",
   "execution_count": null,
   "metadata": {},
   "outputs": [],
   "source": [
    "from simulated_annealing import simulated_annealing, path_length, swap, reverse\n",
    "\n",
    "\n",
    "T = 100\n",
    "alpha = 0.97\n",
    "N_phases = 250\n",
    "N_steps = 50000\n",
    "\n",
    "X = range(N)\n",
    "#This approach swaps random pairs of elements \n",
    "best1, scores1 = simulated_annealing(X, coords, swap, path_length, T, alpha, N_steps, N_phases)\n",
    "#This reverses a random section of the path\n",
    "best2, scores2 = simulated_annealing(X, coords, reverse, path_length, T, alpha, N_steps, N_phases)\n"
   ]
  },
  {
   "cell_type": "markdown",
   "metadata": {},
   "source": [
    "Finally, plot the optimal path for one of the methods"
   ]
  },
  {
   "cell_type": "code",
   "execution_count": null,
   "metadata": {},
   "outputs": [],
   "source": [
    "import matplotlib.pyplot as plt\n",
    "\n",
    "fig, ax = plt.subplots(figsize=(10,10))\n",
    "score, X = best2\n",
    "final = [ coords[i] for i in X ]\n",
    "x, y = zip(*final)\n",
    "plt.scatter(x,y, color='r')\n",
    "plt.plot( x + (x[0],) , y + (y[0],) )\n",
    "plt.show()"
   ]
  },
  {
   "cell_type": "code",
   "execution_count": null,
   "metadata": {},
   "outputs": [],
   "source": []
  }
 ],
 "metadata": {
  "kernelspec": {
   "display_name": "Python 3",
   "language": "python",
   "name": "python3"
  },
  "language_info": {
   "codemirror_mode": {
    "name": "ipython",
    "version": 3
   },
   "file_extension": ".py",
   "mimetype": "text/x-python",
   "name": "python",
   "nbconvert_exporter": "python",
   "pygments_lexer": "ipython3",
   "version": "3.7.6"
  }
 },
 "nbformat": 4,
 "nbformat_minor": 4
}
